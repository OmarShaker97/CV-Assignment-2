{
 "cells": [
  {
   "cell_type": "code",
   "execution_count": 28,
   "metadata": {},
   "outputs": [],
   "source": [
    "import math\n",
    "import numpy as np\n",
    "import matplotlib.pyplot as plot\n",
    "from PIL import Image"
   ]
  },
  {
   "cell_type": "code",
   "execution_count": 29,
   "metadata": {},
   "outputs": [],
   "source": [
    "range_inc = lambda start, end: range(start, end+1)"
   ]
  },
  {
   "cell_type": "code",
   "execution_count": 30,
   "metadata": {},
   "outputs": [],
   "source": [
    "def l_o_g(x, y, sigma):\n",
    "    # Formatted this way for readability\n",
    "    nom = ( (y**2)+(x**2)-2*(sigma**2) )\n",
    "    denom = ( (2*math.pi*(sigma**6) ))\n",
    "    expo = math.exp( -((x**2)+(y**2))/(2*(sigma**2)) )\n",
    "    return nom*expo/denom"
   ]
  },
  {
   "cell_type": "code",
   "execution_count": 31,
   "metadata": {},
   "outputs": [],
   "source": [
    "def create_log(sigma, size = 7):\n",
    "    w = math.ceil(float(size)*float(sigma))\n",
    "    \n",
    "    # If the dimension is an even number, make it uneven\n",
    "    if(w%2 == 0):\n",
    "        w = w + 1\n",
    "\n",
    "    # Now make the mask\n",
    "    l_o_g_mask = []\n",
    "\n",
    "    w_range = int(math.floor(w/2))\n",
    "    for i in range_inc(-w_range, w_range):\n",
    "        for j in range_inc(-w_range, w_range):\n",
    "            l_o_g_mask.append(l_o_g(i,j,sigma))\n",
    "    l_o_g_mask = np.array(l_o_g_mask)\n",
    "    l_o_g_mask = l_o_g_mask.reshape(w,w)\n",
    "    return l_o_g_mask"
   ]
  },
  {
   "cell_type": "code",
   "execution_count": 32,
   "metadata": {},
   "outputs": [],
   "source": [
    "def convolve(image, mask):\n",
    "    width = image.shape[1]\n",
    "    height = image.shape[0]\n",
    "    w_range = int(math.floor(mask.shape[0]/2))\n",
    "\n",
    "    res_image = np.zeros((height, width))\n",
    "\n",
    "    # Iterate over every pixel that can be covered by the mask\n",
    "    for i in range(w_range,width-w_range):\n",
    "        for j in range(w_range,height-w_range):\n",
    "            # Then convolute with the mask \n",
    "            for k in range_inc(-w_range,w_range):\n",
    "                for h in range_inc(-w_range,w_range):\n",
    "                    res_image[j, i] += mask[w_range+h,w_range+k]*image[j+h,i+k]\n",
    "    return res_image"
   ]
  },
  {
   "cell_type": "code",
   "execution_count": 33,
   "metadata": {},
   "outputs": [],
   "source": [
    "def z_c_test(l_o_g_image):\n",
    "    z_c_image = np.zeros(l_o_g_image.shape)\n",
    "\n",
    "    # Check the sign (negative or positive) of all the pixels around each pixel\n",
    "    for i in range(1,l_o_g_image.shape[0]-1):\n",
    "        for j in range(1,l_o_g_image.shape[1]-1):\n",
    "            neg_count = 0\n",
    "            pos_count = 0\n",
    "            for a in range_inc(-1, 1):\n",
    "                for b in range_inc(-1,1):\n",
    "                    if(a != 0 and b != 0):\n",
    "                        if(l_o_g_image[i+a,j+b] < 0):\n",
    "                            neg_count += 1\n",
    "                        elif(l_o_g_image[i+a,j+b] > 0):\n",
    "                            pos_count += 1\n",
    "\n",
    "            # If all the signs around the pixel are the same and they're not all zero, then it's not a zero crossing and not an edge. \n",
    "            # Otherwise, copy it to the edge map.\n",
    "            z_c = ( (neg_count > 0) and (pos_count > 0) )\n",
    "            if(z_c):\n",
    "                z_c_image[i,j] = 1\n",
    "\n",
    "    return z_c_image"
   ]
  },
  {
   "cell_type": "code",
   "execution_count": 34,
   "metadata": {},
   "outputs": [],
   "source": [
    "def run_l_o_g(bin_image, sigma_val, size_val):\n",
    "    # Create the l_o_g mask\n",
    "    l_o_g_mask = create_log(sigma_val, size_val)\n",
    "\n",
    "    # Smooth the image by convolving with the LoG mask\n",
    "    l_o_g_image = convolve(bin_image, l_o_g_mask)\n",
    "\n",
    "    # Display the smoothed imgage\n",
    "    #blurred = fig.add_subplot(1,4,2)\n",
    "    #blurred.imshow(l_o_g_image, cmap=cm.gray)\n",
    "\n",
    "    # Find the zero crossings\n",
    "    z_c_image = z_c_test(l_o_g_image)\n",
    "\n",
    "    #Display the zero crossings\n",
    "    #edges = fig.add_subplot(1,4,3)\n",
    "    #edges.imshow(z_c_image, cmap=cm.gray)\n",
    "    #pylab.show()\n",
    "    new_im = Image.fromarray(z_c_image)\n",
    "    \n",
    "    return new_im"
   ]
  },
  {
   "cell_type": "code",
   "execution_count": 35,
   "metadata": {},
   "outputs": [],
   "source": [
    "def update(val):\n",
    "    run_l_o_g(bin_image, sigma.val, int(size.val))"
   ]
  },
  {
   "cell_type": "code",
   "execution_count": 45,
   "metadata": {},
   "outputs": [
    {
     "data": {
      "text/plain": [
       "<matplotlib.image.AxesImage at 0x2223492fbe0>"
      ]
     },
     "execution_count": 45,
     "metadata": {},
     "output_type": "execute_result"
    },
    {
     "data": {
      "image/png": "[encoded data removed]",
      "text/plain": [
       "<Figure size 432x288 with 1 Axes>"
      ]
     },
     "metadata": {
      "needs_background": "light"
     },
     "output_type": "display_data"
    }
   ],
   "source": [
    "img = Image.open(\"cameraman.tif\").convert(\"L\")\n",
    "\n",
    "np_im = np.array(img)\n",
    "\n",
    "new_im = run_l_o_g(np_im, 1.2, 9)\n",
    "\n",
    "plot.imshow(new_im)"
   ]
  },
  {
   "cell_type": "code",
   "execution_count": null,
   "metadata": {},
   "outputs": [],
   "source": []
  },
  {
   "cell_type": "code",
   "execution_count": null,
   "metadata": {},
   "outputs": [],
   "source": []
  }
 ],
 "metadata": {
  "kernelspec": {
   "display_name": "Python 3",
   "language": "python",
   "name": "python3"
  },
  "language_info": {
   "codemirror_mode": {
    "name": "ipython",
    "version": 3
   },
   "file_extension": ".py",
   "mimetype": "text/x-python",
   "name": "python",
   "nbconvert_exporter": "python",
   "pygments_lexer": "ipython3",
   "version": "3.6.4"
  }
 },
 "nbformat": 4,
 "nbformat_minor": 2
}
