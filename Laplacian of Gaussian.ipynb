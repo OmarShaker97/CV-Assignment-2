{
 "cells": [
  {
   "cell_type": "code",
   "execution_count": 31,
   "metadata": {},
   "outputs": [],
   "source": [
    "import math\n",
    "import numpy as np\n",
    "import matplotlib.pyplot as plt\n",
    "from PIL import Image"
   ]
  },
  {
   "cell_type": "code",
   "execution_count": 32,
   "metadata": {},
   "outputs": [],
   "source": [
    "def calculate_kernel_size(sigma):\n",
    "    s = 2 * math.ceil(3 * sigma) + 1\n",
    "    return s"
   ]
  },
  {
   "cell_type": "code",
   "execution_count": 58,
   "metadata": {},
   "outputs": [],
   "source": [
    "def compute_kernel_values(kernel_size, sigma):\n",
    "    mask = [[0 for x in range(kernel_size)] for y in range(kernel_size)]\n",
    "    for i in range (0,kernel_size):\n",
    "        for j in range (0,kernel_size):\n",
    "            x = i - kernel_size//2\n",
    "            y = j - kernel_size//2\n",
    "            first_part = (-1/(math.pi*(sigma**4)))\n",
    "            second_part = 1 - ((x**2 + y**2)//(2*(sigma**2)))\n",
    "            third_part = (math.e**((-1*((x**2)+(y**2)))//(2*(sigma**2))))\n",
    "            mask[i][j] = first_part*second_part*third_part\n",
    "\n",
    "    \n",
    "    #for i in range (0,kernel_size):\n",
    "        #for j in range (0,kernel_size):\n",
    "            #print(mask[i][j])\n",
    "    \n",
    "    return mask"
   ]
  },
  {
   "cell_type": "code",
   "execution_count": 72,
   "metadata": {},
   "outputs": [
    {
     "data": {
      "image/png": "[encoded data removed]",
      "text/plain": [
       "<Figure size 432x288 with 1 Axes>"
      ]
     },
     "metadata": {
      "needs_background": "light"
     },
     "output_type": "display_data"
    }
   ],
   "source": [
    "sigma = 5\n",
    "kernel_size = calculate_kernel_size(sigma)\n",
    "\n",
    "mask = compute_kernel_values(kernel_size, sigma)\n",
    "\n",
    "for i in range (0,kernel_size):\n",
    "    for j in range (0,kernel_size):\n",
    "        mask[i][j] = mask[i][j] * (-1)\n",
    "\n",
    "img = Image.open(\"cameraman.tif\").convert(\"L\")\n",
    "convolved_img = [[0 for x in range(img.size[0])] for y in range(img.size[1])]\n",
    "convolved_value = 0\n",
    "\n",
    "for i in range (0,img.size[0]):\n",
    "    for j in range (0,img.size[1]):\n",
    "        convolved_value = 0\n",
    "        for k in range (0,kernel_size):\n",
    "            for l in range (0,kernel_size):\n",
    "                try:\n",
    "                    convolved_value = convolved_value + (img.getpixel((i+k,j+l)) * mask[k][l])\n",
    "                except:\n",
    "                    convolved_value = convolved_value + 0\n",
    "\n",
    "        convolved_img[i][j] = convolved_value\n",
    "\n",
    "convolve_min = convolved_img[0][0]\n",
    "convolve_max = convolved_img[0][0]\n",
    "        \n",
    "for i in range (0,img.size[0]):\n",
    "    for j in range (0,img.size[1]):\n",
    "        if(convolved_img[i][j]<convolve_min):\n",
    "            convolve_min = convolved_img[i][j]\n",
    "        if(convolved_img[i][j]>convolve_max):\n",
    "            convolve_max = convolved_img[i][j]\n",
    "\n",
    "median_value = (convolve_max + convolve_min) // 2\n",
    "\n",
    "for i in range (0,img.size[0]):\n",
    "    for j in range (0,img.size[1]):\n",
    "        if(convolved_img[i][j]>median_value):\n",
    "            convolved_img[i][j] = 0\n",
    "        \n",
    "        \n",
    "#for i in range (0,img.size[0]):\n",
    "    #for j in range (0,img.size[1]):\n",
    "        #print(convolved_img.getpixel((i,j)))\n",
    "\n",
    "array = np.array(convolved_img, dtype=np.uint8)\n",
    "array = np.rot90(array, 3)\n",
    "new_im = Image.fromarray(array)\n",
    "        \n",
    "plt.imshow(new_im, cmap='gray')\n",
    "new_im.save('LoG_2.jpg')"
   ]
  },
  {
   "cell_type": "code",
   "execution_count": null,
   "metadata": {},
   "outputs": [],
   "source": []
  },
  {
   "cell_type": "code",
   "execution_count": null,
   "metadata": {},
   "outputs": [],
   "source": []
  }
 ],
 "metadata": {
  "kernelspec": {
   "display_name": "Python 3",
   "language": "python",
   "name": "python3"
  },
  "language_info": {
   "codemirror_mode": {
    "name": "ipython",
    "version": 3
   },
   "file_extension": ".py",
   "mimetype": "text/x-python",
   "name": "python",
   "nbconvert_exporter": "python",
   "pygments_lexer": "ipython3",
   "version": "3.6.4"
  }
 },
 "nbformat": 4,
 "nbformat_minor": 2
}
